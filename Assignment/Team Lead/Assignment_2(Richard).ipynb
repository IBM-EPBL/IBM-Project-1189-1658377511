
{
 "cells": [
  {
   "cell_type": "markdown",
   "metadata": {},
   "source": [
    "# Assignment-2"
   ]
  },
  {
   "cell_type": "markdown",
   "metadata": {},
   "source": [
    "## Data Visualization and Pre-processing"
   ]
  },
  {
   "cell_type": "markdown",
   "metadata": {},
   "source": [
    "### 1.Importing the required libraries"
   ]
  },
  {
   "cell_type": "code",
   "execution_count": 236,
   "metadata": {},
   "outputs": [],
   "source": [
    "import numpy as np\n",
    "import pandas as pd\n",
    "import matplotlib.pyplot as plt\n",
    "%matplotlib inline\n",
    "import seaborn as sns\n",
    "from sklearn import preprocessing\n",
    "from sklearn.preprocessing import StandardScaler\n",
    "from sklearn.model_selection import train_test_split"
   ]
  },
  {
   "cell_type": "markdown",
   "metadata": {},
   "source": [
    "### 2.Loading Dataset"
   ]
  },
  {
   "cell_type": "code",
   "execution_count": 237,
   "metadata": {},
   "outputs": [
    {
     "data": {
      "text/html": [
       "<div>\n",
       "<style scoped>\n",
       "    .dataframe tbody tr th:only-of-type {\n",
       "        vertical-align: middle;\n",
       "    }\n",
       "\n",
       "    .dataframe tbody tr th {\n",
       "        vertical-align: top;\n",
       "    }\n",
       "\n",
       "    .dataframe thead th {\n",
       "        text-align: right;\n",
       "    }\n",
       "</style>\n",
       "<table border=\"1\" class=\"dataframe\">\n",
       "  <thead>\n",
       "    <tr style=\"text-align: right;\">\n",
       "      <th></th>\n",
       "      <th>RowNumber</th>\n",
       "      <th>CustomerId</th>\n",
       "      <th>Surname</th>\n",
       "      <th>CreditScore</th>\n",
       "      <th>Geography</th>\n",
       "      <th>Gender</th>\n",
       "      <th>Age</th>\n",
       "      <th>Tenure</th>\n",
       "      <th>Balance</th>\n",
       "      <th>NumOfProducts</th>\n",
       "      <th>HasCrCard</th>\n",
       "      <th>IsActiveMember</th>\n",
       "      <th>EstimatedSalary</th>\n",
       "      <th>Exited</th>\n",
       "    </tr>\n",
       "  </thead>\n",
       "  <tbody>\n",
       "    <tr>\n",
       "      <th>0</th>\n",
       "      <td>1</td>\n",
       "      <td>15634602</td>\n",
       "      <td>Hargrave</td>\n",
       "      <td>619</td>\n",
       "      <td>France</td>\n",
       "      <td>Female</td>\n",
       "      <td>42</td>\n",
       "      <td>2</td>\n",
       "      <td>0.00</td>\n",
       "      <td>1</td>\n",
       "      <td>1</td>\n",
       "      <td>1</td>\n",
       "      <td>101348.88</td>\n",
       "      <td>1</td>\n",
       "    </tr>\n",
       "    <tr>\n",
       "      <th>1</th>\n",
       "      <td>2</td>\n",
       "      <td>15647311</td>\n",
       "      <td>Hill</td>\n",
       "      <td>608</td>\n",
       "      <td>Spain</td>\n",
       "      <td>Female</td>\n",
       "      <td>41</td>\n",
       "      <td>1</td>\n",
       "      <td>83807.86</td>\n",
       "      <td>1</td>\n",
       "      <td>0</td>\n",
       "      <td>1</td>\n",
       "      <td>112542.58</td>\n",
       "      <td>0</td>\n",
       "    </tr>\n",
       "    <tr>\n",
       "      <th>2</th>\n",
       "      <td>3</td>\n",
       "      <td>15619304</td>\n",
       "      <td>Onio</td>\n",
       "      <td>502</td>\n",
       "      <td>France</td>\n",
       "      <td>Female</td>\n",
       "      <td>42</td>\n",
       "      <td>8</td>\n",
       "      <td>159660.80</td>\n",
       "      <td>3</td>\n",
       "      <td>1</td>\n",
       "      <td>0</td>\n",
       "      <td>113931.57</td>\n",
       "      <td>1</td>\n",
       "    </tr>\n",
       "    <tr>\n",
       "      <th>3</th>\n",
       "      <td>4</td>\n",
       "      <td>15701354</td>\n",
       "      <td>Boni</td>\n",
       "      <td>699</td>\n",
       "      <td>France</td>\n",
       "      <td>Female</td>\n",
       "      <td>39</td>\n",
       "      <td>1</td>\n",
       "      <td>0.00</td>\n",
       "      <td>2</td>\n",
       "      <td>0</td>\n",
       "      <td>0</td>\n",
       "      <td>93826.63</td>\n",
       "      <td>0</td>\n",
       "    </tr>\n",
       "    <tr>\n",
       "      <th>4</th>\n",
       "      <td>5</td>\n",
       "      <td>15737888</td>\n",
       "      <td>Mitchell</td>\n",
       "      <td>850</td>\n",
       "      <td>Spain</td>\n",
       "      <td>Female</td>\n",
       "      <td>43</td>\n",
       "      <td>2</td>\n",
       "      <td>125510.82</td>\n",
       "      <td>1</td>\n",
       "      <td>1</td>\n",
       "      <td>1</td>\n",
       "      <td>79084.10</td>\n",
       "      <td>0</td>\n",
       "    </tr>\n",
       "    <tr>\n",
       "      <th>...</th>\n",
       "      <td>...</td>\n",
       "      <td>...</td>\n",
       "      <td>...</td>\n",
       "      <td>...</td>\n",
       "      <td>...</td>\n",
       "      <td>...</td>\n",
       "      <td>...</td>\n",
       "      <td>...</td>\n",
       "      <td>...</td>\n",
       "      <td>...</td>\n",
       "      <td>...</td>\n",
       "      <td>...</td>\n",
       "      <td>...</td>\n",
       "      <td>...</td>\n",
       "    </tr>\n",
       "    <tr>\n",
       "      <th>9995</th>\n",
       "      <td>9996</td>\n",
       "      <td>15606229</td>\n",
       "      <td>Obijiaku</td>\n",
       "      <td>771</td>\n",
       "      <td>France</td>\n",
       "      <td>Male</td>\n",
       "      <td>39</td>\n",
       "      <td>5</td>\n",
       "      <td>0.00</td>\n",
       "      <td>2</td>\n",
       "      <td>1</td>\n",
       "      <td>0</td>\n",
       "      <td>96270.64</td>\n",
       "      <td>0</td>\n",
       "    </tr>\n",
       "    <tr>\n",
       "      <th>9996</th>\n",
       "      <td>9997</td>\n",
       "      <td>15569892</td>\n",
       "      <td>Johnstone</td>\n",
       "      <td>516</td>\n",
       "      <td>France</td>\n",
       "      <td>Male</td>\n",
       "      <td>35</td>\n",
       "      <td>10</td>\n",
       "      <td>57369.61</td>\n",
       "      <td>1</td>\n",
       "      <td>1</td>\n",
       "      <td>1</td>\n",
       "      <td>101699.77</td>\n",
       "      <td>0</td>\n",
       "    </tr>\n",
       "    <tr>\n",
       "      <th>9997</th>\n",
       "      <td>9998</td>\n",
       "      <td>15584532</td>\n",
       "      <td>Liu</td>\n",
       "      <td>709</td>\n",
       "      <td>France</td>\n",
       "      <td>Female</td>\n",
       "      <td>36</td>\n",
       "      <td>7</td>\n",
       "      <td>0.00</td>\n",
       "      <td>1</td>\n",
       "      <td>0</td>\n",
       "      <td>1</td>\n",
       "      <td>42085.58</td>\n",
       "      <td>1</td>\n",
       "    </tr>\n",
       "    <tr>\n",
       "      <th>9998</th>\n",
       "      <td>9999</td>\n",
       "      <td>15682355</td>\n",
       "      <td>Sabbatini</td>\n",
       "      <td>772</td>\n",
       "      <td>Germany</td>\n",
       "      <td>Male</td>\n",
       "      <td>42</td>\n",
       "      <td>3</td>\n",
       "      <td>75075.31</td>\n",
       "      <td>2</td>\n",
       "      <td>1</td>\n",
       "      <td>0</td>\n",
       "      <td>92888.52</td>\n",
       "      <td>1</td>\n",
       "    </tr>\n",
       "    <tr>\n",
       "      <th>9999</th>\n",
       "      <td>10000</td>\n",
       "      <td>15628319</td>\n",
       "      <td>Walker</td>\n",
       "      <td>792</td>\n",
       "      <td>France</td>\n",
       "      <td>Female</td>\n",
       "      <td>28</td>\n",
       "      <td>4</td>\n",
       "      <td>130142.79</td>\n",
       "      <td>1</td>\n",
       "      <td>1</td>\n",
       "      <td>0</td>\n",
       "      <td>38190.78</td>\n",
       "      <td>0</td>\n",
       "    </tr>\n",
       "  </tbody>\n",
       "</table>\n",
       "<p>10000 rows × 14 columns</p>\n",
       "</div>"
      ],
      "text/plain": [
       "      RowNumber  CustomerId    Surname  CreditScore Geography  Gender  Age  \\\n",
       "0             1    15634602   Hargrave          619    France  Female   42   \n",
       "1             2    15647311       Hill          608     Spain  Female   41   \n",
       "2             3    15619304       Onio          502    France  Female   42   \n",
       "3             4    15701354       Boni          699    France  Female   39   \n",
       "4             5    15737888   Mitchell          850     Spain  Female   43   \n",
       "...         ...         ...        ...          ...       ...     ...  ...   \n",
       "9995       9996    15606229   Obijiaku          771    France    Male   39   \n",
       "9996       9997    15569892  Johnstone          516    France    Male   35   \n",
       "9997       9998    15584532        Liu          709    France  Female   36   \n",
       "9998       9999    15682355  Sabbatini          772   Germany    Male   42   \n",
       "9999      10000    15628319     Walker          792    France  Female   28   \n",
       "\n",
       "      Tenure    Balance  NumOfProducts  HasCrCard  IsActiveMember  \\\n",
       "0          2       0.00              1          1               1   \n",
       "1          1   83807.86              1          0               1   \n",
       "2          8  159660.80              3          1               0   \n",
       "3          1       0.00              2          0               0   \n",
       "4          2  125510.82              1          1               1   \n",
       "...      ...        ...            ...        ...             ...   \n",
       "9995       5       0.00              2          1               0   \n",
       "9996      10   57369.61              1          1               1   \n",
       "9997       7       0.00              1          0               1   \n",
       "9998       3   75075.31              2          1               0   \n",
       "9999       4  130142.79              1          1               0   \n",
       "\n",
       "      EstimatedSalary  Exited  \n",
       "0           101348.88       1  \n",
       "1           112542.58       0  \n",
       "2           113931.57       1  \n",
       "3            93826.63       0  \n",
       "4            79084.10       0  \n",
       "...               ...     ...  \n",
       "9995         96270.64       0  \n",
       "9996        101699.77       0  \n",
       "9997         42085.58       1  \n",
       "9998         92888.52       1  \n",
       "9999         38190.78       0  \n",
       "\n",
       "[10000 rows x 14 columns]"
      ]
     },
     "execution_count": 237,
     "metadata": {},
     "output_type": "execute_result"
    }
   ],
   "source": [
    "df = pd.read_csv (r'Churn_Modelling.csv')\n",
    "df"
   ]
  },
  {
   "cell_type": "code",
   "execution_count": 238,
   "metadata": {},
   "outputs": [
    {
     "name": "stdout",
     "output_type": "stream",
     "text": [
      "<class 'pandas.core.frame.DataFrame'>\n",
      "RangeIndex: 10000 entries, 0 to 9999\n",
      "Data columns (total 14 columns):\n",
      " #   Column           Non-Null Count  Dtype  \n",
      "---  ------           --------------  -----  \n",
      " 0   RowNumber        10000 non-null  int64  \n",
      " 1   CustomerId       10000 non-null  int64  \n",
      " 2   Surname          10000 non-null  object \n",
      " 3   CreditScore      10000 non-null  int64  \n",
      " 4   Geography        10000 non-null  object \n",
      " 5   Gender           10000 non-null  object \n",
      " 6   Age              10000 non-null  int64  \n",
      " 7   Tenure           10000 non-null  int64  \n",
      " 8   Balance          10000 non-null  float64\n",
      " 9   NumOfProducts    10000 non-null  int64  \n",
      " 10  HasCrCard        10000 non-null  int64  \n",
      " 11  IsActiveMember   10000 non-null  int64  \n",
      " 12  EstimatedSalary  10000 non-null  float64\n",
      " 13  Exited           10000 non-null  int64  \n",
      "dtypes: float64(2), int64(9), object(3)\n",
      "memory usage: 1.1+ MB\n"
     ]
    }
   ],
   "source": [
    "df.info()"
   ]
  },
  {
   "cell_type": "markdown",
   "metadata": {},
   "source": [
    "### 3 Perform Below Visualizations"
   ]
  },
  {
   "cell_type": "markdown",
   "metadata": {},
   "source": [
    "### 3.1 Univariate Analysis"
   ]
  },
  {
   "cell_type": "code",
   "execution_count": 239,
   "metadata": {},
   "outputs": [],
   "source": [
    "sns.set(style='whitegrid',palette='muted',color_codes=True)"
   ]
  },
  {
   "cell_type": "code",
   "execution_count": 240,
   "metadata": {},
   "outputs": [
    {
     "name": "stderr",
     "output_type": "stream",
     "text": [
      "c:\\Python310\\lib\\site-packages\\seaborn\\_decorators.py:36: FutureWarning: Pass the following variable as a keyword arg: x. From version 0.12, the only valid positional argument will be `data`, and passing other arguments without an explicit keyword will result in an error or misinterpretation.\n",
      "  warnings.warn(\n"
     ]
    },
    {
     "data": {
      "image/png": "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",
      "text/plain": [
       "<Figure size 432x288 with 1 Axes>"
      ]
     },
     "metadata": {},
     "output_type": "display_data"
    },
    {
     "name": "stderr",
     "output_type": "stream",
     "text": [
      "c:\\Python310\\lib\\site-packages\\seaborn\\_decorators.py:36: FutureWarning: Pass the following variable as a keyword arg: x. From version 0.12, the only valid positional argument will be `data`, and passing other arguments without an explicit keyword will result in an error or misinterpretation.\n",
      "  warnings.warn(\n"
     ]
    },
    {
     "data": {
      "image/png": "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",
      "text/plain": [
       "<Figure size 432x288 with 1 Axes>"
      ]
     },
     "metadata": {},
     "output_type": "display_data"
    },
    {
     "name": "stderr",
     "output_type": "stream",
     "text": [
      "c:\\Python310\\lib\\site-packages\\seaborn\\_decorators.py:36: FutureWarning: Pass the following variable as a keyword arg: x. From version 0.12, the only valid positional argument will be `data`, and passing other arguments without an explicit keyword will result in an error or misinterpretation.\n",
      "  warnings.warn(\n"
     ]
    },
    {
     "data": {
      "image/png": "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",
      "text/plain": [
       "<Figure size 432x288 with 1 Axes>"
      ]
     },
     "metadata": {},
     "output_type": "display_data"
    }
   ],
   "source": [
    "\n",
    "sns.countplot(df.Geography)\n",
    "plt.show()\n",
    "\n",
    "sns.countplot(df.Geography,hue=df.Gender)\n",
    "plt.show()\n",
    "\n",
    "\n",
    "\n",
    "sns.countplot(df.Geography,hue=df.Exited)\n",
    "plt.show()"
   ]
  },
  {
   "cell_type": "code",
   "execution_count": 241,
   "metadata": {},
   "outputs": [
    {
     "data": {
      "image/png": "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",
      "text/plain": [
       "<Figure size 360x360 with 1 Axes>"
      ]
     },
     "metadata": {},
     "output_type": "display_data"
    },
    {
     "name": "stderr",
     "output_type": "stream",
     "text": [
      "c:\\Python310\\lib\\site-packages\\seaborn\\_decorators.py:36: FutureWarning: Pass the following variable as a keyword arg: x. From version 0.12, the only valid positional argument will be `data`, and passing other arguments without an explicit keyword will result in an error or misinterpretation.\n",
      "  warnings.warn(\n"
     ]
    },
    {
     "data": {
      "image/png": "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
